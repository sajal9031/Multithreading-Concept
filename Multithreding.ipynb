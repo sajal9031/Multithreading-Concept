{
 "cells": [
  {
   "cell_type": "markdown",
   "id": "6b0a6afc-426b-4489-adeb-958f55c88a5a",
   "metadata": {},
   "source": [
    "Multithreading\n",
    "\n",
    "Multithreading in Python refers to the technique of using multiple threads of execution to perform different tasks simultaneously within a Python program. Python has a built-in module called threading which provides a simple and efficient way to implement multithreading.\n",
    "\n",
    "With the threading module, you can create multiple threads and execute them concurrently within a single process. Each thread can perform a different task independently, such as reading data from a file, sending or receiving data over a network connection, or performing a computationally intensive operation."
   ]
  },
  {
   "cell_type": "code",
   "execution_count": 8,
   "id": "b480c345-b991-4026-a968-7f05919c64ae",
   "metadata": {},
   "outputs": [],
   "source": [
    "import threading"
   ]
  },
  {
   "cell_type": "code",
   "execution_count": 13,
   "id": "e03ebe9c-1951-4cac-b3d4-4b6dfdd2c610",
   "metadata": {},
   "outputs": [],
   "source": [
    "def test(id):\n",
    "    print(\"this is my test  id %d\" % id)"
   ]
  },
  {
   "cell_type": "code",
   "execution_count": 14,
   "id": "e523ded3-c7b5-4210-8824-3e579188802c",
   "metadata": {},
   "outputs": [
    {
     "name": "stdout",
     "output_type": "stream",
     "text": [
      "this is my test  id 11\n"
     ]
    }
   ],
   "source": [
    "test(11)"
   ]
  },
  {
   "cell_type": "code",
   "execution_count": 15,
   "id": "774499ca-5209-4761-8f93-85cc40042dc4",
   "metadata": {},
   "outputs": [
    {
     "name": "stdout",
     "output_type": "stream",
     "text": [
      "this is my test  id 3\n"
     ]
    }
   ],
   "source": [
    "test(3)"
   ]
  },
  {
   "cell_type": "code",
   "execution_count": 17,
   "id": "8e8ae681-aff2-4258-87f5-a34166425896",
   "metadata": {},
   "outputs": [],
   "source": [
    "thred=[threading.Thread(target=test, args =(i,)) for i in [10,12,34]]"
   ]
  },
  {
   "cell_type": "code",
   "execution_count": 18,
   "id": "9e3aa764-7c8e-443c-9eb3-5cba4628c8de",
   "metadata": {},
   "outputs": [
    {
     "data": {
      "text/plain": [
       "[<Thread(Thread-5 (test), initial)>,\n",
       " <Thread(Thread-6 (test), initial)>,\n",
       " <Thread(Thread-7 (test), initial)>]"
      ]
     },
     "execution_count": 18,
     "metadata": {},
     "output_type": "execute_result"
    }
   ],
   "source": [
    "thred"
   ]
  },
  {
   "cell_type": "code",
   "execution_count": 20,
   "id": "60740898-95c7-4500-b374-18ee0105270d",
   "metadata": {},
   "outputs": [
    {
     "name": "stdout",
     "output_type": "stream",
     "text": [
      "this is my test  id 10\n",
      "this is my test  id 12\n",
      "this is my test  id 34\n"
     ]
    }
   ],
   "source": [
    "for t in thred:\n",
    "    t.start()\n",
    "    "
   ]
  },
  {
   "cell_type": "code",
   "execution_count": 1,
   "id": "920aaee3-9b17-46b2-85c4-07e72420066e",
   "metadata": {},
   "outputs": [],
   "source": [
    "import urllib.request\n",
    "def file_download(url, filename):\n",
    "    urllib.request.urlretrieve(url, filename)"
   ]
  },
  {
   "cell_type": "code",
   "execution_count": 2,
   "id": "4f0dd199-b314-4647-bed0-6c358c3c745e",
   "metadata": {},
   "outputs": [],
   "source": [
    "file_download('https://github.com/sajal9031/Exception-Handling2', \"test2.txt\")"
   ]
  },
  {
   "cell_type": "code",
   "execution_count": 3,
   "id": "c894a28c-7101-48a3-8fc6-f3e60e560c7d",
   "metadata": {},
   "outputs": [],
   "source": [
    "url_list = ['https://raw.githubusercontent.com/itsfoss/text-files/master/agatha.txt' , 'https://raw.githubusercontent.com/itsfoss/text-files/master/sherlock.txt' ,'https://raw.githubusercontent.com/itsfoss/text-files/master/sample_log_file.txt' ]"
   ]
  },
  {
   "cell_type": "code",
   "execution_count": 4,
   "id": "2cf5ab8c-faeb-42f7-94fa-fed9df95325b",
   "metadata": {},
   "outputs": [
    {
     "data": {
      "text/plain": [
       "['https://raw.githubusercontent.com/itsfoss/text-files/master/agatha.txt',\n",
       " 'https://raw.githubusercontent.com/itsfoss/text-files/master/sherlock.txt',\n",
       " 'https://raw.githubusercontent.com/itsfoss/text-files/master/sample_log_file.txt']"
      ]
     },
     "execution_count": 4,
     "metadata": {},
     "output_type": "execute_result"
    }
   ],
   "source": [
    "url_list"
   ]
  },
  {
   "cell_type": "code",
   "execution_count": 5,
   "id": "6f894f04-3068-42fd-8ce3-710ed818af62",
   "metadata": {},
   "outputs": [],
   "source": [
    "data_file_list = ['data1.txt', 'data2.txt','data3.txt']"
   ]
  },
  {
   "cell_type": "code",
   "execution_count": 6,
   "id": "f58cce07-e60d-4a4c-98ab-1dcd774f6541",
   "metadata": {},
   "outputs": [
    {
     "data": {
      "text/plain": [
       "['data1.txt', 'data2.txt', 'data3.txt']"
      ]
     },
     "execution_count": 6,
     "metadata": {},
     "output_type": "execute_result"
    }
   ],
   "source": [
    "data_file_list"
   ]
  },
  {
   "cell_type": "code",
   "execution_count": 9,
   "id": "b9fee809-d0f4-451b-b9aa-d8e5b17ad50d",
   "metadata": {},
   "outputs": [],
   "source": [
    "thread1 = [threading.Thread(target=file_download , args=(url_list[i],data_file_list[i])) for i in range(len(url_list))]"
   ]
  },
  {
   "cell_type": "code",
   "execution_count": 10,
   "id": "f9e6c1c4-b00d-4767-abcd-016d116321a3",
   "metadata": {},
   "outputs": [],
   "source": [
    "for t in thread1:\n",
    "    t.start()"
   ]
  },
  {
   "cell_type": "code",
   "execution_count": 11,
   "id": "59de249a-e1a8-4bf7-ae5a-62292d1f2ed7",
   "metadata": {},
   "outputs": [
    {
     "data": {
      "text/plain": [
       "[<Thread(Thread-5 (file_download), stopped 139641558640192)>,\n",
       " <Thread(Thread-6 (file_download), stopped 139641550247488)>,\n",
       " <Thread(Thread-7 (file_download), stopped 139640996623936)>]"
      ]
     },
     "execution_count": 11,
     "metadata": {},
     "output_type": "execute_result"
    }
   ],
   "source": [
    "thread1"
   ]
  },
  {
   "cell_type": "code",
   "execution_count": 12,
   "id": "48cc5af7-cb92-45d5-95ce-960861abc74d",
   "metadata": {},
   "outputs": [],
   "source": [
    "import time"
   ]
  },
  {
   "cell_type": "code",
   "execution_count": 13,
   "id": "2443f82c-4f0d-48fd-9ef6-748ec9ccc1d3",
   "metadata": {},
   "outputs": [],
   "source": [
    "def test2(x) : \n",
    "    for i in range(10) : \n",
    "        print(\" test1 print the value of x %d and print the value of i %d \" %(x,i))\n",
    "        time.sleep(1)"
   ]
  },
  {
   "cell_type": "code",
   "execution_count": 14,
   "id": "74e62b72-c951-44a4-b3d3-b8b5f60ca959",
   "metadata": {},
   "outputs": [],
   "source": [
    "thread2 = [threading.Thread(target=test2 , args=(i,)) for i in [100 , 10,20,5]]"
   ]
  },
  {
   "cell_type": "code",
   "execution_count": 15,
   "id": "763a8b56-3413-41a5-90fd-f1b599dc2da0",
   "metadata": {},
   "outputs": [
    {
     "name": "stdout",
     "output_type": "stream",
     "text": [
      " test1 print the value of x 100 and print the value of i 0 \n",
      " test1 print the value of x 10 and print the value of i 0 \n",
      " test1 print the value of x 20 and print the value of i 0 \n",
      " test1 print the value of x 5 and print the value of i 0 \n",
      " test1 print the value of x 10 and print the value of i 1  test1 print the value of x 5 and print the value of i 1 \n",
      "\n",
      " test1 print the value of x 20 and print the value of i 1 \n",
      " test1 print the value of x 100 and print the value of i 1 \n",
      " test1 print the value of x 5 and print the value of i 2  test1 print the value of x 100 and print the value of i 2 \n",
      "\n",
      " test1 print the value of x 10 and print the value of i 2 \n",
      " test1 print the value of x 20 and print the value of i 2 \n",
      " test1 print the value of x 100 and print the value of i 3  test1 print the value of x 5 and print the value of i 3 \n",
      " test1 print the value of x 20 and print the value of i 3 \n",
      " test1 print the value of x 10 and print the value of i 3 \n",
      "\n",
      " test1 print the value of x 5 and print the value of i 4  test1 print the value of x 20 and print the value of i 4 \n",
      "\n",
      " test1 print the value of x 10 and print the value of i 4 \n",
      " test1 print the value of x 100 and print the value of i 4 \n",
      " test1 print the value of x 20 and print the value of i 5  test1 print the value of x 100 and print the value of i 5 \n",
      "\n",
      " test1 print the value of x 5 and print the value of i 5 \n",
      " test1 print the value of x 10 and print the value of i 5 \n",
      " test1 print the value of x 100 and print the value of i 6  test1 print the value of x 20 and print the value of i 6 \n",
      "\n",
      " test1 print the value of x 10 and print the value of i 6 \n",
      " test1 print the value of x 5 and print the value of i 6 \n",
      " test1 print the value of x 20 and print the value of i 7  test1 print the value of x 100 and print the value of i 7 \n",
      " test1 print the value of x 10 and print the value of i 7 \n",
      "\n",
      " test1 print the value of x 5 and print the value of i 7 \n",
      " test1 print the value of x 100 and print the value of i 8 \n",
      " test1 print the value of x 10 and print the value of i 8 \n",
      " test1 print the value of x 20 and print the value of i 8 \n",
      " test1 print the value of x 5 and print the value of i 8 \n",
      " test1 print the value of x 100 and print the value of i 9  test1 print the value of x 20 and print the value of i 9 \n",
      "\n",
      " test1 print the value of x 10 and print the value of i 9 \n",
      " test1 print the value of x 5 and print the value of i 9 \n"
     ]
    }
   ],
   "source": [
    "for t in thread2:\n",
    "    t.start()"
   ]
  },
  {
   "cell_type": "code",
   "execution_count": 16,
   "id": "065cc28f-18c3-4024-bc41-477a059a8c5b",
   "metadata": {},
   "outputs": [
    {
     "name": "stdout",
     "output_type": "stream",
     "text": [
      " test1 print the value of x 10 and print the value of i 0 \n",
      " test1 print the value of x 10 and print the value of i 1 \n",
      " test1 print the value of x 10 and print the value of i 2 \n",
      " test1 print the value of x 10 and print the value of i 3 \n",
      " test1 print the value of x 10 and print the value of i 4 \n",
      " test1 print the value of x 10 and print the value of i 5 \n",
      " test1 print the value of x 10 and print the value of i 6 \n",
      " test1 print the value of x 10 and print the value of i 7 \n",
      " test1 print the value of x 10 and print the value of i 8 \n",
      " test1 print the value of x 10 and print the value of i 9 \n"
     ]
    }
   ],
   "source": [
    "test2(10)"
   ]
  },
  {
   "cell_type": "code",
   "execution_count": 18,
   "id": "17c2f805-e981-435e-819a-a29925888759",
   "metadata": {},
   "outputs": [
    {
     "name": "stdout",
     "output_type": "stream",
     "text": [
      " test1 print the value of x 2 and print the value of i 0 \n",
      " test1 print the value of x 2 and print the value of i 1 \n",
      " test1 print the value of x 2 and print the value of i 2 \n",
      " test1 print the value of x 2 and print the value of i 3 \n",
      " test1 print the value of x 2 and print the value of i 4 \n",
      " test1 print the value of x 2 and print the value of i 5 \n",
      " test1 print the value of x 2 and print the value of i 6 \n",
      " test1 print the value of x 2 and print the value of i 7 \n",
      " test1 print the value of x 2 and print the value of i 8 \n",
      " test1 print the value of x 2 and print the value of i 9 \n"
     ]
    }
   ],
   "source": [
    "test2(2)"
   ]
  },
  {
   "cell_type": "code",
   "execution_count": 21,
   "id": "0855a0b5-e5ca-4e6d-afc6-a8bcd43d9b31",
   "metadata": {},
   "outputs": [
    {
     "name": "stdout",
     "output_type": "stream",
     "text": [
      "value of x 1 and value of shareed_var 1 \n",
      "value of x 2 and value of shareed_var 2 \n",
      "value of x 3 and value of shareed_var 3 \n"
     ]
    }
   ],
   "source": [
    "shared_var = 0 \n",
    "lock_var = threading.Lock()\n",
    "def test3(x) : \n",
    "    global shared_var\n",
    "    with lock_var : \n",
    "        shared_var = shared_var + 1\n",
    "        print(\"value of x %d and value of shareed_var %d \" %(x, shared_var))\n",
    "        time.sleep(1)\n",
    " \n",
    "thread5  = [threading.Thread(target=test4 , args = (i,)) for i in [1,2,3,4,4,5]]\n",
    "for t in thread5 : \n",
    "    t.start()"
   ]
  },
  {
   "cell_type": "code",
   "execution_count": 22,
   "id": "3ff79e78-53bc-4f2c-b006-49df28cdc46f",
   "metadata": {},
   "outputs": [
    {
     "name": "stdout",
     "output_type": "stream",
     "text": [
      "value of x 4 and value of shareed_var 4 \n",
      "value of x 4 and value of shareed_var 5 \n",
      "value of x 5 and value of shareed_var 6 \n",
      "value of x 1 and value of shareed_var 7 \n"
     ]
    }
   ],
   "source": [
    "test3(1)"
   ]
  },
  {
   "cell_type": "code",
   "execution_count": 23,
   "id": "f9948a40-a16a-4281-b437-17e0911e589c",
   "metadata": {},
   "outputs": [
    {
     "name": "stdout",
     "output_type": "stream",
     "text": [
      "value of x 2 and value of shareed_var 8 \n"
     ]
    }
   ],
   "source": [
    "test3(2)"
   ]
  },
  {
   "cell_type": "code",
   "execution_count": null,
   "id": "8059652c-1ea2-40fb-8b1d-39caeea673ad",
   "metadata": {},
   "outputs": [],
   "source": []
  },
  {
   "cell_type": "code",
   "execution_count": null,
   "id": "64096b60-ba3f-444f-92e9-a0be53a55381",
   "metadata": {},
   "outputs": [],
   "source": []
  }
 ],
 "metadata": {
  "kernelspec": {
   "display_name": "Python 3 (ipykernel)",
   "language": "python",
   "name": "python3"
  },
  "language_info": {
   "codemirror_mode": {
    "name": "ipython",
    "version": 3
   },
   "file_extension": ".py",
   "mimetype": "text/x-python",
   "name": "python",
   "nbconvert_exporter": "python",
   "pygments_lexer": "ipython3",
   "version": "3.10.8"
  }
 },
 "nbformat": 4,
 "nbformat_minor": 5
}
